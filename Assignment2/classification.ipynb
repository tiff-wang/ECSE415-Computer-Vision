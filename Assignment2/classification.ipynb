{
 "cells": [
  {
   "cell_type": "markdown",
   "metadata": {},
   "source": [
    "# Assignment 2 - Classification\n",
    "\n",
    "_Tiffany Wang - 260684152_ "
   ]
  },
  {
   "cell_type": "markdown",
   "metadata": {},
   "source": [
    "### 3.1 Coding Questions"
   ]
  },
  {
   "cell_type": "code",
   "execution_count": 1,
   "metadata": {},
   "outputs": [],
   "source": [
    "import numpy as np \n",
    "import matplotlib.pyplot as plt \n",
    "import cv2 \n",
    "import os\n",
    "import math\n",
    "from PIL import Image"
   ]
  },
  {
   "cell_type": "code",
   "execution_count": 2,
   "metadata": {},
   "outputs": [],
   "source": [
    "def HoG_features(images, cell_size=(4, 4), block_size=(4, 4), nbins=8):\n",
    "    '''\n",
    "    Creates a list of HoG features for each image. \n",
    "    :param images: list of images to be processed\n",
    "    :param cell_size: shape of pixels window per cell \n",
    "    :param block_size: shape of cells window per block \n",
    "    :return: list of HoG features \n",
    "    '''\n",
    "    features = []\n",
    "    for img in images:\n",
    "        h, w, _ = img.shape\n",
    "        c_h, c_w = cell_size\n",
    "        b_h, b_w = block_size\n",
    "        \n",
    "        # create HoG Object\n",
    "        hog = cv2.HOGDescriptor(_winSize=(w // c_w * c_w, h // c_h * c_h),\n",
    "                                _blockSize=(b_w * b_w, b_h * b_h),\n",
    "                                _blockStride=(c_w, c_h),\n",
    "                                _cellSize=(c_w, c_h),\n",
    "                                _nbins=nbins)\n",
    "\n",
    "        n_cells = (h // c_h, w // c_w)\n",
    "\n",
    "        # Compute HoG features\n",
    "        hog_feats = hog.compute(img) \\\n",
    "                       .reshape(n_cells[1] - b_w + 1, n_cells[0] - b_h + 1, b_h, b_w, nbins) \\\n",
    "                       .transpose((1, 0, 2, 3, 4))  \n",
    "        \n",
    "        # computation for BlockNorm\n",
    "        gradients = np.zeros((n_cells[0], n_cells[1], nbins)).astype(np.float)\n",
    "        cell_count = np.zeros((n_cells[0], n_cells[1], 1)).astype(np.float)\n",
    "\n",
    "        for off_y in range(b_h):\n",
    "            for off_x in range(b_w):\n",
    "                gradients[off_y:n_cells[0] - b_h + off_y + 1, \n",
    "                          off_x:n_cells[1] - b_w + off_x + 1] += hog_feats[:, :, off_y, off_x, :]\n",
    "                cell_count[off_y:n_cells[0] - b_h + off_y + 1,\n",
    "                           off_x:n_cells[1] - b_w + off_x + 1] += 1\n",
    "\n",
    "        # Average gradients\n",
    "        gradients /= cell_count\n",
    "\n",
    "        features.append(gradients)\n",
    "    return features"
   ]
  },
  {
   "cell_type": "code",
   "execution_count": 3,
   "metadata": {},
   "outputs": [],
   "source": [
    "max_col = 4\n",
    "def plot_hog(features):\n",
    "    '''\n",
    "    Plot the features of every bin. \n",
    "    :param features: HoG Feature matrix\n",
    "    :return: None\n",
    "    '''\n",
    "    nbins = features.shape[-1]\n",
    "    nb_row = math.ceil(nbins / max_col)\n",
    "    nb_plot = nb_row * 100 + max_col * 10\n",
    "    plt.figure(figsize = (20,10))\n",
    "    for i in range(x_ft.shape[-1]):\n",
    "        plt.subplot(nb_plot + i + 1)\n",
    "        plt.pcolor(features[:, :, i])\n",
    "        plt.gca().invert_yaxis()\n",
    "        plt.gca().set_aspect('equal', adjustable='box')\n",
    "        plt.title(\"HOG bin = {}\".format(i)), plt.xticks([]), plt.yticks([])\n",
    "        plt.colorbar()\n",
    "    plt.show()"
   ]
  },
  {
   "cell_type": "markdown",
   "metadata": {},
   "source": [
    "###### 1. Resize the training images to 128 x 128."
   ]
  },
  {
   "cell_type": "code",
   "execution_count": 4,
   "metadata": {},
   "outputs": [
    {
     "name": "stdout",
     "output_type": "stream",
     "text": [
      "5 Ford training images\n",
      "1 Ford training images\n",
      "5 Volkswagen training images\n",
      "1 Volkswagen training images\n"
     ]
    }
   ],
   "source": [
    "# Load images and store them in training and test sets \n",
    "data = os.listdir('./dataset/')\n",
    "ford_train = []\n",
    "ford_test = []\n",
    "vw_train = []\n",
    "vw_test = []\n",
    "size = (128, 128)\n",
    "\n",
    "# Resize and store training and test images \n",
    "for file in data: \n",
    "    img = Image.open('./dataset/' + file)\n",
    "    \n",
    "    if (len(img.size) == 2): \n",
    "        img = img.convert('RGB')        \n",
    "    img = img.resize(size)\n",
    "    img = np.array(img)\n",
    "    if file.startswith('ford_train'): \n",
    "        ford_train.append(img)\n",
    "    elif file.startswith('ford_test'):\n",
    "        ford_test.append(img)\n",
    "    elif file.startswith('volks_train'): \n",
    "        vw_train.append(img)\n",
    "    elif file.startswith('volks_test'): \n",
    "        vw_test.append(img)  \n",
    "        \n",
    "print('{} Ford training images'.format(len(ford_train)))\n",
    "print('{} Ford training images'.format(len(ford_test)))\n",
    "print('{} Volkswagen training images'.format(len(vw_train)))\n",
    "print('{} Volkswagen training images'.format(len(vw_test)))"
   ]
  },
  {
   "cell_type": "markdown",
   "metadata": {},
   "source": [
    "###### 2. Compute HoG features of size (32,32,8). Apply blocknorm in 4 x 4 cell neighborhood."
   ]
  },
  {
   "cell_type": "code",
   "execution_count": 5,
   "metadata": {},
   "outputs": [
    {
     "data": {
      "image/png": "[encoded data removed]",
      "text/plain": [
       "<Figure size 432x432 with 1 Axes>"
      ]
     },
     "metadata": {},
     "output_type": "display_data"
    },
    {
     "ename": "NameError",
     "evalue": "name 'x_ft' is not defined",
     "output_type": "error",
     "traceback": [
      "\u001b[0;31m---------------------------------------------------------------------------\u001b[0m",
      "\u001b[0;31mNameError\u001b[0m                                 Traceback (most recent call last)",
      "\u001b[0;32m<ipython-input-5-b6e004a7b9b7>\u001b[0m in \u001b[0;36m<module>\u001b[0;34m()\u001b[0m\n\u001b[1;32m     14\u001b[0m \u001b[0mplt\u001b[0m\u001b[0;34m.\u001b[0m\u001b[0mshow\u001b[0m\u001b[0;34m(\u001b[0m\u001b[0;34m)\u001b[0m\u001b[0;34m\u001b[0m\u001b[0m\n\u001b[1;32m     15\u001b[0m \u001b[0;34m\u001b[0m\u001b[0m\n\u001b[0;32m---> 16\u001b[0;31m \u001b[0mplot_hog\u001b[0m\u001b[0;34m(\u001b[0m\u001b[0mgradients\u001b[0m\u001b[0;34m)\u001b[0m\u001b[0;34m\u001b[0m\u001b[0m\n\u001b[0m",
      "\u001b[0;32m<ipython-input-3-d5f13edf9b1a>\u001b[0m in \u001b[0;36mplot_hog\u001b[0;34m(features)\u001b[0m\n\u001b[1;32m     10\u001b[0m     \u001b[0mnb_plot\u001b[0m \u001b[0;34m=\u001b[0m \u001b[0mnb_row\u001b[0m \u001b[0;34m*\u001b[0m \u001b[0;36m100\u001b[0m \u001b[0;34m+\u001b[0m \u001b[0mmax_col\u001b[0m \u001b[0;34m*\u001b[0m \u001b[0;36m10\u001b[0m\u001b[0;34m\u001b[0m\u001b[0m\n\u001b[1;32m     11\u001b[0m     \u001b[0mplt\u001b[0m\u001b[0;34m.\u001b[0m\u001b[0mfigure\u001b[0m\u001b[0;34m(\u001b[0m\u001b[0mfigsize\u001b[0m \u001b[0;34m=\u001b[0m \u001b[0;34m(\u001b[0m\u001b[0;36m20\u001b[0m\u001b[0;34m,\u001b[0m\u001b[0;36m10\u001b[0m\u001b[0;34m)\u001b[0m\u001b[0;34m)\u001b[0m\u001b[0;34m\u001b[0m\u001b[0m\n\u001b[0;32m---> 12\u001b[0;31m     \u001b[0;32mfor\u001b[0m \u001b[0mi\u001b[0m \u001b[0;32min\u001b[0m \u001b[0mrange\u001b[0m\u001b[0;34m(\u001b[0m\u001b[0mx_ft\u001b[0m\u001b[0;34m.\u001b[0m\u001b[0mshape\u001b[0m\u001b[0;34m[\u001b[0m\u001b[0;34m-\u001b[0m\u001b[0;36m1\u001b[0m\u001b[0;34m]\u001b[0m\u001b[0;34m)\u001b[0m\u001b[0;34m:\u001b[0m\u001b[0;34m\u001b[0m\u001b[0m\n\u001b[0m\u001b[1;32m     13\u001b[0m         \u001b[0mplt\u001b[0m\u001b[0;34m.\u001b[0m\u001b[0msubplot\u001b[0m\u001b[0;34m(\u001b[0m\u001b[0mnb_plot\u001b[0m \u001b[0;34m+\u001b[0m \u001b[0mi\u001b[0m \u001b[0;34m+\u001b[0m \u001b[0;36m1\u001b[0m\u001b[0;34m)\u001b[0m\u001b[0;34m\u001b[0m\u001b[0m\n\u001b[1;32m     14\u001b[0m         \u001b[0mplt\u001b[0m\u001b[0;34m.\u001b[0m\u001b[0mpcolor\u001b[0m\u001b[0;34m(\u001b[0m\u001b[0mfeatures\u001b[0m\u001b[0;34m[\u001b[0m\u001b[0;34m:\u001b[0m\u001b[0;34m,\u001b[0m \u001b[0;34m:\u001b[0m\u001b[0;34m,\u001b[0m \u001b[0mi\u001b[0m\u001b[0;34m]\u001b[0m\u001b[0;34m)\u001b[0m\u001b[0;34m\u001b[0m\u001b[0m\n",
      "\u001b[0;31mNameError\u001b[0m: name 'x_ft' is not defined"
     ]
    },
    {
     "data": {
      "text/plain": [
       "<Figure size 1440x720 with 0 Axes>"
      ]
     },
     "metadata": {},
     "output_type": "display_data"
    }
   ],
   "source": [
    "# img.shape = (128, 128, 3), so cell_size = (128 // 4, 128 // 4)\n",
    "ford_features = HoG_features(ford_train)\n",
    "vw_features = HoG_features(vw_train)\n",
    "\n",
    "# test the feature extraction for one image \n",
    "img = vw_train[3]\n",
    "gradients = vw_features[3]\n",
    "\n",
    "# Preview\n",
    "plt.figure(figsize = (6,6))\n",
    "plt.subplot(121)\n",
    "plt.imshow(img)\n",
    "plt.title(\"Original Image\"), plt.xticks([]), plt.yticks([])\n",
    "plt.show()\n",
    "\n",
    "plot_hog(gradients)"
   ]
  },
  {
   "cell_type": "code",
   "execution_count": null,
   "metadata": {},
   "outputs": [],
   "source": [
    "from sklearn.neighbors import KNeighborsClassifier\n",
    "\n",
    "# set up classifier\n",
    "train_x = np.array(ford_features + vw_features)\n",
    "train_x = train_x.reshape(train_x.shape[0], -1)\n",
    "nb_ford_train = len(ford_train)\n",
    "nb_vw_train = len(vw_train)\n",
    "\n",
    "# create labels for training set\n",
    "train_y = ['ford' for _ in range(nb_ford_train)] + ['volkswagen' for _ in range(nb_vw_train)]\n",
    "\n",
    "# Instantiate classifier and train. \n",
    "neigh = KNeighborsClassifier(n_neighbors=3)\n",
    "neigh.fit(train_x, train_y) "
   ]
  },
  {
   "cell_type": "code",
   "execution_count": null,
   "metadata": {},
   "outputs": [],
   "source": [
    "##################\n",
    "# PREDICT IMAGES #\n",
    "##################\n",
    "test_img = ford_test + vw_test\n",
    "test_features = np.array(HoG_features(test_img))\n",
    "test_y = neigh.predict(test_features.reshape(len(test_img), -1))\n",
    "max_col = 4\n",
    "for x, x_ft, y in zip(test_img, test_features, test_y):\n",
    "    # Preview\n",
    "    plt.figure(figsize = (6,4))\n",
    "    plt.imshow(x)\n",
    "    plt.title(\"Original Image\"), plt.xticks([]), plt.yticks([])\n",
    "    plt.show()\n",
    "    \n",
    "    plot_hog(x_ft)\n",
    "    print('The image above was classified as', y)"
   ]
  },
  {
   "cell_type": "markdown",
   "metadata": {},
   "source": [
    "### 3.2 Reasoning Questions"
   ]
  },
  {
   "cell_type": "markdown",
   "metadata": {},
   "source": [
    "###### 1. Will HoG work if images of logos undergo random rotation? If yes, which property of HoG avails this feature? If not, discuss the sequence of computer vision technique(s) that can be used in order to regain uniform orientation of the logos."
   ]
  },
  {
   "cell_type": "markdown",
   "metadata": {},
   "source": [
    "HoG defines features by their orientation and scale, thus depends on the orientation of the image. Therefore, it won't work if the images are randomly rotated. Following the techniques in Part II of this assignment, we could find the feature descriptors, and matching points, to warp the images to the same orientation.  "
   ]
  },
  {
   "cell_type": "markdown",
   "metadata": {},
   "source": [
    "###### 2. Consider that you are given a large dataset with three types of images: variable sized squares with either or both diagonals drawn (see Figure 3). How many and which directions of the gradient are $\\textit{sufficient}$ in order to correctly classify the images into three categories?"
   ]
  },
  {
   "cell_type": "markdown",
   "metadata": {},
   "source": [
    "Since there are only two possible directions, only two directions of the gradients when training the classifier. HoG would find the gradients normal to each diagonal, which will be used to classify the images. "
   ]
  }
 ],
 "metadata": {
  "kernelspec": {
   "display_name": "compvision_Python_3",
   "language": "python",
   "name": "compvision_python_3"
  },
  "language_info": {
   "codemirror_mode": {
    "name": "ipython",
    "version": 3
   },
   "file_extension": ".py",
   "mimetype": "text/x-python",
   "name": "python",
   "nbconvert_exporter": "python",
   "pygments_lexer": "ipython3",
   "version": "3.7.0a4"
  }
 },
 "nbformat": 4,
 "nbformat_minor": 2
}
