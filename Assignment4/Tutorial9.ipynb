{
 "cells": [
  {
   "cell_type": "markdown",
   "metadata": {},
   "source": [
    "# ECSE415 - Intro to Computer Vision\n",
    "## Tutorial 9 - Introduction to Machine Learning  using Scikit-Learn\n"
   ]
  },
  {
   "cell_type": "markdown",
   "metadata": {},
   "source": [
    "A machine learning problem consists of $n$ instances of data and attempts to predict properties of unseen data.\n",
    "\n",
    "Learning problems can be separated into several categories:\n",
    "* Supervised Learning: data comes with additional attributes that we want to predict. This problem can be either:\n",
    " * Classification: Samples belong to two or more classes and the algorithm learns from already labeled data to         predict to class of unseen data.\n",
    " * Regression: the desired output consists of one or more continuous variables.\n",
    "* Unsupervised Learning: data consists of a set of input vectors without any corresponding target values. Examples include clustering, density estimation, etc."
   ]
  },
  {
   "cell_type": "code",
   "execution_count": 2,
   "metadata": {
    "scrolled": false
   },
   "outputs": [
    {
     "name": "stdout",
     "output_type": "stream",
     "text": [
      "Input data dimensions: (1797, 64)\n",
      "Output data dimensions: (1797,)\n",
      "Input data:\n"
     ]
    },
    {
     "data": {
      "image/png": "[encoded data removed]",
      "text/plain": [
       "<matplotlib.figure.Figure at 0x7fbf24eccdd8>"
      ]
     },
     "metadata": {
      "needs_background": "light"
     },
     "output_type": "display_data"
    },
    {
     "name": "stdout",
     "output_type": "stream",
     "text": [
      "Output labels:\n",
      "[0 1 2 3 4 5 6 7 8 9]\n"
     ]
    }
   ],
   "source": [
    "from sklearn import datasets\n",
    "from matplotlib import pyplot as plt\n",
    "\n",
    "digits = datasets.load_digits()\n",
    "\n",
    "print(\"Input data dimensions:\", digits.data.shape)\n",
    "print(\"Output data dimensions:\", digits.target.shape)\n",
    "\n",
    "print(\"Input data:\")\n",
    "for i in range(10):\n",
    "    plt.subplot(1,10,i+1)\n",
    "    plt.imshow(digits.data[i].reshape(8,8), cmap='gray'); plt.axis('off')\n",
    "plt.show()\n",
    "\n",
    "print(\"Output labels:\")\n",
    "print(digits.target[0:10])"
   ]
  },
  {
   "cell_type": "markdown",
   "metadata": {},
   "source": [
    "The task is to predict the output label (number from 0-9) for each input image. Since we are provided with examples of each of the 10 possible classes, we can now attempt to *fit* an estimator to be able to *predict* the classes to which unseen samples belong.\n",
    "\n",
    "We can begin by looking at a Support Vector Machine."
   ]
  },
  {
   "cell_type": "code",
   "execution_count": 3,
   "metadata": {},
   "outputs": [
    {
     "name": "stdout",
     "output_type": "stream",
     "text": [
      "Predicted Label: [0 8 9 8]\n",
      "Actual Label: [0 8 9 8]\n"
     ]
    },
    {
     "data": {
      "image/png": "[encoded data removed]",
      "text/plain": [
       "<matplotlib.figure.Figure at 0x7fbf24d5bd30>"
      ]
     },
     "metadata": {
      "needs_background": "light"
     },
     "output_type": "display_data"
    }
   ],
   "source": [
    "from sklearn import svm\n",
    "from sklearn import datasets\n",
    "import matplotlib.pyplot as plt\n",
    "\n",
    "digits = datasets.load_digits()\n",
    "\n",
    "clf = svm.SVC(gamma=0.001, C=100.)\n",
    "# training, let's us all the data but the last 4 instances\n",
    "clf.fit(digits.data[:-4], digits.target[:-4])\n",
    "# now predict the label for the last 2 instances\n",
    "print(\"Predicted Label:\", clf.predict(digits.data[-4:]))\n",
    "print(\"Actual Label:\", digits.target[-4:])\n",
    "\n",
    "# plt.figure(figsize=(10,10))\n",
    "plt.subplot(141), plt.imshow(digits.data[-4].reshape(8,8), cmap='gray'); plt.axis('off')\n",
    "plt.subplot(142), plt.imshow(digits.data[-3].reshape(8,8), cmap='gray'); plt.axis('off')\n",
    "plt.subplot(143), plt.imshow(digits.data[-2].reshape(8,8), cmap='gray'); plt.axis('off')\n",
    "plt.subplot(144), plt.imshow(digits.data[-1].reshape(8,8), cmap='gray'); plt.axis('off')\n",
    "plt.title(\"Digits Image\")\n",
    "plt.show()"
   ]
  },
  {
   "cell_type": "markdown",
   "metadata": {},
   "source": [
    "Scikit learn also lets you save your best model to disk for future uses."
   ]
  },
  {
   "cell_type": "code",
   "execution_count": 4,
   "metadata": {},
   "outputs": [],
   "source": [
    "from sklearn.externals import joblib\n",
    "joblib.dump(clf, 'filename.pk1')\n",
    "\n",
    "# load back the pickled model at a later time\n",
    "clf = joblib.load('filename.pk1')"
   ]
  },
  {
   "cell_type": "markdown",
   "metadata": {},
   "source": [
    "You can also update and fine-tune hyper-parameters after the model has been constructed."
   ]
  },
  {
   "cell_type": "code",
   "execution_count": 5,
   "metadata": {},
   "outputs": [
    {
     "name": "stdout",
     "output_type": "stream",
     "text": [
      "Linear Kernel:\n",
      "\tPredicted Labels: [5 4 8 8 4 9 0 8 9 8]\n",
      "\tActual Labels:    [5 4 8 8 4 9 0 8 9 8]\n",
      "\n",
      "Radial Basis Function Kernel:\n",
      "\tPredicted Labels: [5 4 5 5 4 9 5 5 5 5]\n",
      "\tActual Labels:    [5 4 8 8 4 9 0 8 9 8]\n"
     ]
    }
   ],
   "source": [
    "from sklearn import svm\n",
    "from sklearn import datasets\n",
    "\n",
    "digits = datasets.load_digits()\n",
    "# classifer object\n",
    "clf = svm.SVC()\n",
    "# set hyper-parameters\n",
    "print(\"Linear Kernel:\")\n",
    "clf.set_params(kernel='linear').fit(digits.data[:-10], digits.target[:-10])\n",
    "print(\"\\tPredicted Labels:\", clf.predict(digits.data[-10:]))\n",
    "print(\"\\tActual Labels:   \", digits.target[-10:])\n",
    "print(\"\")\n",
    "\n",
    "print(\"Radial Basis Function Kernel:\")\n",
    "clf.set_params(kernel='rbf').fit(digits.data[:-10], digits.target[:-10])\n",
    "print(\"\\tPredicted Labels:\", clf.predict(digits.data[-10:]))\n",
    "print(\"\\tActual Labels:   \", digits.target[-10:])"
   ]
  },
  {
   "cell_type": "markdown",
   "metadata": {},
   "source": [
    "Scikit learn also supports multiclass and mutlilabel fitting."
   ]
  },
  {
   "cell_type": "code",
   "execution_count": 6,
   "metadata": {},
   "outputs": [
    {
     "data": {
      "text/plain": [
       "array([5, 4, 3, 3, 4, 9, 0, 3, 9, 3])"
      ]
     },
     "execution_count": 6,
     "metadata": {},
     "output_type": "execute_result"
    }
   ],
   "source": [
    "from sklearn.svm import SVC\n",
    "from sklearn.multiclass import OneVsRestClassifier\n",
    "from sklearn.preprocessing import LabelBinarizer\n",
    "from sklearn import datasets\n",
    "\n",
    "digits = datasets.load_digits()\n",
    "X_train = digits.data[:-10]\n",
    "y_train = digits.target[:-10]\n",
    "X_test = digits.data[-10:]\n",
    "y_test = digits.target[-10:]\n",
    "\n",
    "classif = OneVsRestClassifier(estimator = SVC(random_state=0))\n",
    "classif.fit(X_train, y_train).predict(X_test)\n"
   ]
  },
  {
   "cell_type": "markdown",
   "metadata": {
    "collapsed": true
   },
   "source": [
    "In the above case, the classifier is fit on a 1d array of multiclass labels and the **predict()** method therefore provides corresponding multiclass predictions. It is also possible to fit upon a 2d array of binary label indicators:"
   ]
  },
  {
   "cell_type": "code",
   "execution_count": 7,
   "metadata": {},
   "outputs": [
    {
     "data": {
      "text/plain": [
       "array([[1, 0, 0, ..., 0, 0, 0],\n",
       "       [0, 1, 0, ..., 0, 0, 0],\n",
       "       [0, 0, 1, ..., 0, 0, 0],\n",
       "       ...,\n",
       "       [0, 0, 0, ..., 0, 0, 0],\n",
       "       [0, 0, 0, ..., 1, 0, 0],\n",
       "       [0, 0, 0, ..., 0, 0, 1]])"
      ]
     },
     "execution_count": 7,
     "metadata": {},
     "output_type": "execute_result"
    }
   ],
   "source": [
    "y_train_binary = LabelBinarizer().fit_transform(y_train)\n",
    "classif.fit(X_train, y_train_binary).predict(X_train)"
   ]
  },
  {
   "cell_type": "markdown",
   "metadata": {},
   "source": [
    "Here, the classifier is **fit()** on a 2d binary representation of **y** using the **LabelBinarizer**. In this case **predict()** returns a 2d array representing the corresponding multilabel predictions."
   ]
  },
  {
   "cell_type": "code",
   "execution_count": 8,
   "metadata": {},
   "outputs": [
    {
     "data": {
      "text/plain": [
       "array([[1, 1, 0, 0, 0],\n",
       "       [1, 0, 1, 0, 0],\n",
       "       [0, 1, 0, 1, 0],\n",
       "       [1, 0, 1, 0, 0],\n",
       "       [1, 0, 1, 0, 0]])"
      ]
     },
     "execution_count": 8,
     "metadata": {},
     "output_type": "execute_result"
    }
   ],
   "source": [
    "from sklearn.preprocessing import MultiLabelBinarizer\n",
    "\n",
    "X = [[1, 2], [2, 4], [4, 5], [3, 2], [3, 1]]\n",
    "y = [[0, 1], [0, 2], [1, 3], [0, 2, 3], [2, 4]]\n",
    "y = MultiLabelBinarizer().fit_transform(y)\n",
    "classif.fit(X, y).predict(X)"
   ]
  },
  {
   "cell_type": "markdown",
   "metadata": {},
   "source": [
    "In this case, the classifier is fit upon instances each assigned multiple labels. The **MultiLabelBinarizer** is used to binarize the 2d array of multilabels to **fit** upon. As a result, **predict()** returns a 2d array with multiple predicted labels for each instance."
   ]
  }
 ],
 "metadata": {
  "kernelspec": {
   "display_name": "Python 3",
   "language": "python",
   "name": "python3"
  },
  "language_info": {
   "codemirror_mode": {
    "name": "ipython",
    "version": 3
   },
   "file_extension": ".py",
   "mimetype": "text/x-python",
   "name": "python",
   "nbconvert_exporter": "python",
   "pygments_lexer": "ipython3",
   "version": "3.7.0"
  }
 },
 "nbformat": 4,
 "nbformat_minor": 2
}
