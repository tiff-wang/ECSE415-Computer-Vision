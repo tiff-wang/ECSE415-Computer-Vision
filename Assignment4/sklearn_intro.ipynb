{
 "cells": [
  {
   "cell_type": "markdown",
   "metadata": {},
   "source": [
    "# Dataset splitting"
   ]
  },
  {
   "cell_type": "code",
   "execution_count": 1,
   "metadata": {},
   "outputs": [],
   "source": [
    "# Import the data splitting method from sklearn\n",
    "from sklearn.model_selection import train_test_split\n",
    "# Import datasets from sklearn:\n",
    "from sklearn import datasets\n",
    "# Import Numpy for computations\n",
    "import numpy as np\n",
    "\n",
    "# Load the diabetes dataset\n",
    "diabetes = datasets.load_diabetes()\n",
    "\n",
    "# Put the data into variable X, and target into variable Y\n",
    "X = diabetes.data\n",
    "Y = diabetes.target"
   ]
  },
  {
   "cell_type": "code",
   "execution_count": 2,
   "metadata": {},
   "outputs": [
    {
     "name": "stdout",
     "output_type": "stream",
     "text": [
      "['age', 'sex', 'bmi', 'bp', 's1', 's2', 's3', 's4', 's5', 's6']\n"
     ]
    }
   ],
   "source": [
    "# Typically, the rows (first dimension) indicate the samples (eg subject).\n",
    "# The columns (second dimension) indicate the features (measurements).\n",
    "# The diabetes dataset has 442 subjects.\n",
    "# Every subject has 10 features.\n",
    "# The sklearn datasets have the fature_names parameter.\n",
    "## Print the feature_names parameter from the diabetes dataset.\n",
    "print(diabetes.feature_names)"
   ]
  },
  {
   "cell_type": "code",
   "execution_count": 3,
   "metadata": {},
   "outputs": [
    {
     "name": "stdout",
     "output_type": "stream",
     "text": [
      "(442, 10)\n",
      "(309, 10)\n",
      "(133, 10)\n",
      "(309,)\n",
      "(133,)\n"
     ]
    }
   ],
   "source": [
    "# Split the data into training/testing sets\n",
    "# Put 0.7 of the data in the training set\n",
    "## Use train_test_split( ??? )\n",
    "## print the shapes of each\n",
    "X_train, X_test, Y_train, Y_test = train_test_split( X, Y, train_size=0.7, test_size=0.3)\n",
    "print(X.shape)\n",
    "print(X_train.shape)\n",
    "print(X_test.shape)\n",
    "print(Y_train.shape)\n",
    "print(Y_test.shape)"
   ]
  },
  {
   "cell_type": "code",
   "execution_count": 4,
   "metadata": {},
   "outputs": [
    {
     "data": {
      "text/plain": [
       "Text(0,0.5,'Diabetes progression')"
      ]
     },
     "execution_count": 4,
     "metadata": {},
     "output_type": "execute_result"
    }
   ],
   "source": [
    "# Visualize the data using the pyplot module from matplotlib:\n",
    "from matplotlib import pyplot as plt\n",
    "# Plt the target vs. the second dimension\n",
    "# Use plt.scatter( ???, ??? )\n",
    "# Add x- and y-labels using plt.xlabel('x') and plt.ylabel('y')\n",
    "plt.figure()\n",
    "plt.scatter( X_train[:, 2], Y_train)\n",
    "plt.xlabel('BMI')\n",
    "plt.ylabel('Diabetes progression')"
   ]
  },
  {
   "cell_type": "markdown",
   "metadata": {},
   "source": [
    "# Linear regression"
   ]
  },
  {
   "cell_type": "code",
   "execution_count": 5,
   "metadata": {},
   "outputs": [],
   "source": [
    "# import datasets\n",
    "from sklearn import datasets\n",
    "# Import linear regressor class:\n",
    "from sklearn.linear_model import LinearRegression\n",
    "# Import MSE metric\n",
    "from sklearn.metrics import mean_squared_error\n",
    "\n",
    "## Create a regressor object using the LinearRegression class:\n",
    "lin_reg = LinearRegression()"
   ]
  },
  {
   "cell_type": "code",
   "execution_count": 6,
   "metadata": {},
   "outputs": [
    {
     "data": {
      "text/plain": [
       "LinearRegression(copy_X=True, fit_intercept=True, n_jobs=1, normalize=False)"
      ]
     },
     "execution_count": 6,
     "metadata": {},
     "output_type": "execute_result"
    }
   ],
   "source": [
    "# Perform linear regression\n",
    "# sklearn models all have the .fit() methodtPCA\n",
    "# To use it: model.fit()\n",
    "lin_reg.fit( X_train, Y_train)"
   ]
  },
  {
   "cell_type": "code",
   "execution_count": 7,
   "metadata": {},
   "outputs": [
    {
     "data": {
      "text/plain": [
       "Text(0,0.5,'Coefficient value')"
      ]
     },
     "execution_count": 7,
     "metadata": {},
     "output_type": "execute_result"
    },
    {
     "data": {
      "image/png": "[encoded data removed]",
      "text/plain": [
       "<Figure size 432x288 with 1 Axes>"
      ]
     },
     "metadata": {
      "needs_background": "light"
     },
     "output_type": "display_data"
    }
   ],
   "source": [
    "# Plot the coefficients using plt.plot( ??? )\n",
    "plt.figure()\n",
    "plt.plot(lin_reg.coef_)\n",
    "plt.xlabel('Feautre index')\n",
    "plt.ylabel('Coefficient value')"
   ]
  },
  {
   "cell_type": "code",
   "execution_count": 8,
   "metadata": {},
   "outputs": [],
   "source": [
    "# To evaluate a model, we need Error( Y_target, Y_pred)\n",
    "# Look at both the training and test error.\n",
    "# Get predictions for using the .predict( ???) method\n",
    "prediction_train = lin_reg.predict(X_train)\n",
    "prediction_test = lin_reg.predict(X_test)"
   ]
  },
  {
   "cell_type": "code",
   "execution_count": 9,
   "metadata": {},
   "outputs": [
    {
     "name": "stdout",
     "output_type": "stream",
     "text": [
      "2973.898331431786\n",
      "2705.4883638046203\n"
     ]
    }
   ],
   "source": [
    "# Get the MSE using mean_squared_error, which we imported earlier\n",
    "mse_train = mean_squared_error(Y_train, prediction_train)\n",
    "mse_test = mean_squared_error(Y_test, prediction_test)\n",
    "\n",
    "print(mse_train)\n",
    "print(mse_test)"
   ]
  },
  {
   "cell_type": "code",
   "execution_count": 10,
   "metadata": {},
   "outputs": [],
   "source": [
    "## Try different data splits using train_test_split(X, Y, train_size=0.2)\n",
    "## What happens to the MSE when you have more training data (0.8) ?\n",
    "## What happens when you have less (0.2) ?"
   ]
  },
  {
   "cell_type": "markdown",
   "metadata": {},
   "source": [
    "# Cross-validation"
   ]
  },
  {
   "cell_type": "code",
   "execution_count": 11,
   "metadata": {},
   "outputs": [
    {
     "name": "stdout",
     "output_type": "stream",
     "text": [
      "-4\n",
      "-3\n",
      "-2\n",
      "-1\n",
      "0\n",
      "1\n",
      "2\n",
      "3\n",
      "4\n"
     ]
    }
   ],
   "source": [
    "# We can do K-fold cross-validation using the Kfold class\n",
    "from sklearn.model_selection import KFold\n",
    "\n",
    "# Initialize the class with the number of folds:\n",
    "kf_splitter = KFold(n_splits=5)\n",
    "\n",
    "# The .split method of kf_splitter returns a generator.\n",
    "# In Python, we can iterate over generators in a loop like a list\n",
    "# Loop with list:\n",
    "for i in [-4,-3,-2,-1]:\n",
    "    print(i)\n",
    "# Loop with generator:\n",
    "for i in range(5):\n",
    "    print(i)\n"
   ]
  },
  {
   "cell_type": "code",
   "execution_count": 12,
   "metadata": {},
   "outputs": [
    {
     "name": "stdout",
     "output_type": "stream",
     "text": [
      "[2845.0055068733723, 2928.3379346655547, 3037.01129256615, 3070.4634857040514, 2863.7378939601945]\n",
      "[3570.054075140494, 3207.7142014478013, 2857.7914487698313, 2834.29143659152, 3576.4543482731483]\n"
     ]
    },
    {
     "data": {
      "text/plain": [
       "[<matplotlib.lines.Line2D at 0x1a1f009860>]"
      ]
     },
     "execution_count": 12,
     "metadata": {},
     "output_type": "execute_result"
    },
    {
     "data": {
      "image/png": "[encoded data removed]",
      "text/plain": [
       "<Figure size 432x288 with 1 Axes>"
      ]
     },
     "metadata": {
      "needs_background": "light"
     },
     "output_type": "display_data"
    }
   ],
   "source": [
    "# The .split() method returns indices to the dataset\n",
    "kf_splitter = KFold(n_splits=5)\n",
    "## In each loop, train our regressor and save the MSE\n",
    "\n",
    "mse_train = []\n",
    "mse_valid = []\n",
    "## NOTE: We can use cross_val_score instead of this loop\n",
    "## The code here is used as a demonstration\n",
    "for train_index, valid_index in kf_splitter.split(X_train):\n",
    "    # Get our training data in this fold\n",
    "    kX_train = X_train[train_index, :]\n",
    "    kY_train = Y_train[train_index]\n",
    "    \n",
    "    # Get our validation data in this fold\n",
    "    kX_valid = X_train[valid_index, :]\n",
    "    kY_valid = Y_train[valid_index]\n",
    "\n",
    "    # Train our regressor\n",
    "    lin_reg.fit( kX_train, kY_train)\n",
    "    \n",
    "    # Get our prediction for training, validation:\n",
    "    prediction_train = lin_reg.predict( kX_train)\n",
    "    prediction_valid = lin_reg.predict( kX_valid)\n",
    "    \n",
    "    kmse_train = mean_squared_error( kY_train, prediction_train)\n",
    "    mse_train.append(kmse_train)\n",
    "    \n",
    "    kmse_valid = mean_squared_error( kY_valid, prediction_valid )\n",
    "    mse_valid.append(kmse_valid)\n",
    "\n",
    "# Print the mse\n",
    "print(mse_train)\n",
    "print(mse_valid)\n",
    "\n",
    "plt.figure()\n",
    "plt.plot(mse_train)\n",
    "plt.plot(mse_valid)"
   ]
  },
  {
   "cell_type": "markdown",
   "metadata": {},
   "source": [
    "Use array indexing to reduce the data that is put into the .split() method.\n",
    "kf_splitter.split( X[ ???, ???] )\n",
    "What happens when we increase the number of folds (n_splits=??)"
   ]
  },
  {
   "cell_type": "markdown",
   "metadata": {},
   "source": [
    "# Support Vector Machines"
   ]
  },
  {
   "cell_type": "code",
   "execution_count": 13,
   "metadata": {},
   "outputs": [
    {
     "name": "stdout",
     "output_type": "stream",
     "text": [
      "(178, 13)\n",
      "(124, 13)\n",
      "(54, 13)\n"
     ]
    },
    {
     "name": "stderr",
     "output_type": "stream",
     "text": [
      "/Users/TiffanyWang/anaconda3/lib/python3.7/site-packages/sklearn/model_selection/_split.py:2026: FutureWarning: From version 0.21, test_size will always complement train_size unless both are specified.\n",
      "  FutureWarning)\n"
     ]
    }
   ],
   "source": [
    "# Import the Support Vector Machine classifier:\n",
    "from sklearn import svm\n",
    "# We'll be using the confusion matrix:\n",
    "from sklearn.metrics import confusion_matrix\n",
    "\n",
    "svm_classifer = svm.SVC()\n",
    "\n",
    "# Load the wine data\n",
    "wine = datasets.load_wine()\n",
    "\n",
    "# Extract the wine data/target\n",
    "X = wine.data\n",
    "Y = wine.target\n",
    "\n",
    "# Split the data\n",
    "X_train, X_test, Y_train, Y_test = train_test_split( X, Y, train_size=0.7)\n",
    "print(X.shape)\n",
    "print(X_train.shape)\n",
    "print(X_test.shape)\n"
   ]
  },
  {
   "cell_type": "code",
   "execution_count": 14,
   "metadata": {},
   "outputs": [
    {
     "data": {
      "text/plain": [
       "<matplotlib.image.AxesImage at 0x1a1f188c18>"
      ]
     },
     "execution_count": 14,
     "metadata": {},
     "output_type": "execute_result"
    },
    {
     "data": {
      "image/png": "[encoded data removed]",
      "text/plain": [
       "<Figure size 432x288 with 1 Axes>"
      ]
     },
     "metadata": {
      "needs_background": "light"
     },
     "output_type": "display_data"
    }
   ],
   "source": [
    "# Train the SVM classifier:\n",
    "svm_classifer.fit(X_train, Y_train)\n",
    "\n",
    "# Get the predictions of the classifier:\n",
    "prediction = svm_classifer.predict( X_test )\n",
    "\n",
    "# Create the confusion matrix using the function:\n",
    "conf = confusion_matrix(Y_test, prediction)\n",
    "\n",
    "# We can plot images using pyplot.imshow( ???)\n",
    "plt.figure()\n",
    "plt.imshow(conf)"
   ]
  },
  {
   "cell_type": "markdown",
   "metadata": {},
   "source": [
    "What happened? Why is the classifier unable to classify the data?  \n",
    "\n",
    "SVMs use kernels on the input space. Kernels transform the features.\n",
    "Not all transformations are useful, and can destroy useful info."
   ]
  },
  {
   "cell_type": "code",
   "execution_count": 15,
   "metadata": {},
   "outputs": [
    {
     "data": {
      "text/plain": [
       "<matplotlib.image.AxesImage at 0x1a1f2735c0>"
      ]
     },
     "execution_count": 15,
     "metadata": {},
     "output_type": "execute_result"
    },
    {
     "data": {
      "image/png": "[encoded data removed]",
      "text/plain": [
       "<Figure size 432x288 with 1 Axes>"
      ]
     },
     "metadata": {
      "needs_background": "light"
     },
     "output_type": "display_data"
    }
   ],
   "source": [
    "# We can change the kernel using the \"kernel\" parameter\n",
    "# Different kernels are described in the documentation\n",
    "# Use kernel='poly' for now\n",
    "svm_classifer = svm.SVC(kernel='poly')\n",
    "# Fit, predict, and plot the confusion matrix\n",
    "svm_classifer.fit(X_train, Y_train)\n",
    "prediction = svm_classifer.predict( X_test)\n",
    "conf = confusion_matrix( Y_test, prediction)\n",
    "\n",
    "plt.figure()\n",
    "plt.imshow(conf)"
   ]
  },
  {
   "cell_type": "markdown",
   "metadata": {},
   "source": [
    "NOTE: SVMs are binary classifiers; they separate two labels only.\n",
    "One-vs-one (OVO) classification, which learns one discriminator for every pair of labels. (creates ~N^2 classifiers)\n",
    "One-vs-all (OVA) classification, which learns to discriminate each label from all other labels (creates N classifiers)"
   ]
  },
  {
   "cell_type": "markdown",
   "metadata": {},
   "source": [
    "# Principal Component Analysis"
   ]
  },
  {
   "cell_type": "code",
   "execution_count": 2,
   "metadata": {},
   "outputs": [
    {
     "name": "stdout",
     "output_type": "stream",
     "text": [
      "(105, 3)\n",
      "[0.92306146 0.055133   0.01719384]\n"
     ]
    },
    {
     "name": "stderr",
     "output_type": "stream",
     "text": [
      "/Users/TiffanyWang/anaconda3/lib/python3.7/site-packages/sklearn/model_selection/_split.py:2026: FutureWarning: From version 0.21, test_size will always complement train_size unless both are specified.\n",
      "  FutureWarning)\n"
     ]
    }
   ],
   "source": [
    "# Import PCA from sklearn:\n",
    "from sklearn.decomposition import PCA\n",
    "\n",
    "# Load the iris dataset:\n",
    "iris = datasets.load_iris()\n",
    "X = iris.data\n",
    "Y = iris.target\n",
    "\n",
    "# Split the data using train_test_split\n",
    "X_train, X_test, Y_train, Y_test = train_test_split( X, Y, train_size=0.7)\n",
    "\n",
    "# Initialize PCA object; use \"n_components\" to see number of PC\n",
    "pca = PCA(n_components=3)\n",
    "\n",
    "# Fit the PCA and return the data using pca.fit_transform( ... )\n",
    "X_train_pca = pca.fit_transform( X_train )\n",
    "\n",
    "# Using the object, transform the test set\n",
    "X_test_pca = pca.transform(X_test)\n",
    "\n",
    "# Print the shape of the transformed data\n",
    "print(X_train_pca.shape)\n",
    "\n",
    "# Get the variance explained by every principal component:\n",
    "print(pca.explained_variance_ratio_)"
   ]
  },
  {
   "cell_type": "code",
   "execution_count": 23,
   "metadata": {},
   "outputs": [
    {
     "name": "stdout",
     "output_type": "stream",
     "text": [
      "(150, 4)\n",
      "(105, 4)\n",
      "(45, 4)\n",
      "(4,)\n",
      "[6.4 2.8 5.6 2.2]\n"
     ]
    }
   ],
   "source": [
    "print(X.shape)\n",
    "print(X_train.shape)\n",
    "print(X_test.shape)\n",
    "\n",
    "print(X_train[0].shape)\n",
    "print(X_train[0])"
   ]
  },
  {
   "cell_type": "code",
   "execution_count": 20,
   "metadata": {},
   "outputs": [
    {
     "name": "stdout",
     "output_type": "stream",
     "text": [
      "(33, 2)\n"
     ]
    }
   ],
   "source": [
    "# Let's visualize our data using a scatterplot\n",
    "# Logical indexing can be a powerful tool for selecting data\n",
    "# We can select the data from X_train which matches a class:\n",
    "\n",
    "X_class_0 = X_train_pca[ Y_train == 0, :]\n",
    "X_class_1 = X_train_pca[ Y_train == 1, :]\n",
    "X_class_2 = X_train_pca[ Y_train == 2, :]\n",
    "print(X_class_0.shape)"
   ]
  },
  {
   "cell_type": "code",
   "execution_count": 21,
   "metadata": {},
   "outputs": [
    {
     "data": {
      "text/plain": [
       "<matplotlib.collections.PathCollection at 0x19422795f98>"
      ]
     },
     "execution_count": 21,
     "metadata": {},
     "output_type": "execute_result"
    },
    {
     "data": {
      "image/png": "[encoded data removed]",
      "text/plain": [
       "<Figure size 432x288 with 1 Axes>"
      ]
     },
     "metadata": {
      "needs_background": "light"
     },
     "output_type": "display_data"
    }
   ],
   "source": [
    "# Create a scatter plot\n",
    "# Use different colors for the different classes!\n",
    "\n",
    "plt.figure()\n",
    "plt.scatter(X_class_0[:,0], X_class_0[:,1])\n",
    "plt.scatter(X_class_1[:,0], X_class_1[:,1])\n",
    "plt.scatter(X_class_2[:,0], X_class_2[:,1])"
   ]
  },
  {
   "cell_type": "code",
   "execution_count": 22,
   "metadata": {},
   "outputs": [
    {
     "name": "stdout",
     "output_type": "stream",
     "text": [
      "0.33017315391703245\n",
      "PCA:\n",
      "0.35799671761283697\n"
     ]
    }
   ],
   "source": [
    "# How does this affect classification?\n",
    "# Does PCA help classify the data?\n",
    "# Let's classify the data using a logistic regressor\n",
    "# Import the logistic regressor:\n",
    "from sklearn.linear_model import LogisticRegression\n",
    "# We will need a classification error (log_loss)\n",
    "from sklearn.metrics import log_loss\n",
    "\n",
    "# Initialize the object:\n",
    "log_reg = LogisticRegression()\n",
    "\n",
    "# Fit the non-PCA data using the log regressor\n",
    "log_reg.fit( X_train, Y_train)\n",
    "# Get the classification error - we need to get the probability\n",
    "# log_reg.predict_proba( ??? )\n",
    "prediction = log_reg.predict_proba( X_test )\n",
    "print(log_loss(Y_test, prediction))\n",
    "\n",
    "# Fit the PCA data\n",
    "log_reg.fit( X_train_pca, Y_train)\n",
    "\n",
    "# Get the classification error\n",
    "prediction = log_reg.predict_proba( X_test_pca )\n",
    "print('PCA:')\n",
    "print(log_loss(Y_test, prediction))"
   ]
  },
  {
   "cell_type": "markdown",
   "metadata": {},
   "source": [
    "# K-means"
   ]
  },
  {
   "cell_type": "code",
   "execution_count": 23,
   "metadata": {},
   "outputs": [
    {
     "name": "stdout",
     "output_type": "stream",
     "text": [
      "(1000, 2)\n",
      "(1000,)\n"
     ]
    }
   ],
   "source": [
    "# We'll use the .make_blobs function from datasets to create data\n",
    "num_cluster_data = 5\n",
    "# Use three keyword arguments: \n",
    "## n_samples=1000, cluster_std=2, centers=5\n",
    "# The function returns [data, cluster_index]\n",
    "X, Y = datasets.make_blobs( n_samples=1000, cluster_std=2, centers=5)\n",
    "print(X.shape)\n",
    "print(Y.shape)"
   ]
  },
  {
   "cell_type": "code",
   "execution_count": 24,
   "metadata": {},
   "outputs": [
    {
     "name": "stderr",
     "output_type": "stream",
     "text": [
      "C:\\Users\\Lex-Lab\\Anaconda3\\envs\\py36\\lib\\site-packages\\sklearn\\model_selection\\_split.py:2026: FutureWarning: From version 0.21, test_size will always complement train_size unless both are specified.\n",
      "  FutureWarning)\n"
     ]
    }
   ],
   "source": [
    "X_train, X_test, Y_train, Y_test = train_test_split(X, Y, train_size=0.7)"
   ]
  },
  {
   "cell_type": "code",
   "execution_count": 25,
   "metadata": {},
   "outputs": [
    {
     "data": {
      "image/png": "[encoded data removed]",
      "text/plain": [
       "<Figure size 432x288 with 1 Axes>"
      ]
     },
     "metadata": {
      "needs_background": "light"
     },
     "output_type": "display_data"
    }
   ],
   "source": [
    "# Plot the training data using different colors for the clusters\n",
    "# Use logical indexing to select data\n",
    "plt.figure()\n",
    "for i in range(num_cluster_data):\n",
    "    blob = X_train[ Y_train==i, :]\n",
    "    plt.scatter( blob[:, 0], blob[:, 1] )"
   ]
  },
  {
   "cell_type": "code",
   "execution_count": 26,
   "metadata": {},
   "outputs": [],
   "source": [
    "# Import KMeans and initialize the object\n",
    "from sklearn.cluster import KMeans\n",
    "num_clusters=5\n",
    "km = KMeans(n_clusters=num_clusters)"
   ]
  },
  {
   "cell_type": "code",
   "execution_count": 27,
   "metadata": {},
   "outputs": [],
   "source": [
    "# Fit the km object and predict on the test data\n",
    "km.fit( X_train)\n",
    "km_predict = km.predict( X_test)"
   ]
  },
  {
   "cell_type": "code",
   "execution_count": 28,
   "metadata": {},
   "outputs": [
    {
     "data": {
      "image/png": "[encoded data removed]",
      "text/plain": [
       "<Figure size 432x288 with 1 Axes>"
      ]
     },
     "metadata": {
      "needs_background": "light"
     },
     "output_type": "display_data"
    }
   ],
   "source": [
    "# Plot the groups as before\n",
    "plt.figure()\n",
    "for i in range(num_clusters):\n",
    "    blob = X_test[ km_predict==i, :]\n",
    "    plt.scatter( blob[:, 0], blob[:,1])"
   ]
  },
  {
   "cell_type": "markdown",
   "metadata": {},
   "source": [
    "Vary the parameters for the data and re-run the code.\n",
    "What happens when you have a high std?\n",
    "What happens when the number of generated clusters isn't the same as you're fitting?"
   ]
  }
 ],
 "metadata": {
  "kernelspec": {
   "display_name": "Python 3",
   "language": "python",
   "name": "python3"
  },
  "language_info": {
   "codemirror_mode": {
    "name": "ipython",
    "version": 3
   },
   "file_extension": ".py",
   "mimetype": "text/x-python",
   "name": "python",
   "nbconvert_exporter": "python",
   "pygments_lexer": "ipython3",
   "version": "3.7.0"
  }
 },
 "nbformat": 4,
 "nbformat_minor": 2
}
